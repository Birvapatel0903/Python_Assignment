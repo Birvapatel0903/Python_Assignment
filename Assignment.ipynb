{
 "cells": [
  {
   "cell_type": "code",
   "execution_count": 8,
   "metadata": {},
   "outputs": [
    {
     "name": "stdout",
     "output_type": "stream",
     "text": [
      "50 10\n"
     ]
    }
   ],
   "source": [
    "# Write a python program to swap two number For example Input : price = 10 and quantity = 50 Output : price = 50 and quantity = 10\n",
    "\n",
    "Price =10\n",
    "Quantity =50\n",
    "Result= Price\n",
    "Price = Quantity \n",
    "Quantity= Result\n",
    "print(Price,Quantity)\n"
   ]
  },
  {
   "cell_type": "code",
   "execution_count": 14,
   "metadata": {},
   "outputs": [
    {
     "name": "stdout",
     "output_type": "stream",
     "text": [
      "Number is odd\n"
     ]
    }
   ],
   "source": [
    "# Write a python program to check whether a given number is even or odd.\n",
    "\n",
    "Number= int(input(\"Enter A Number:\"))\n",
    "if (Number % 2) ==0:\n",
    "    print(\"Number is Even\")\n",
    "else:\n",
    "    print(\"Number is odd\")\n"
   ]
  },
  {
   "cell_type": "code",
   "execution_count": 26,
   "metadata": {},
   "outputs": [
    {
     "name": "stdout",
     "output_type": "stream",
     "text": [
      "654321\n",
      "654321\n"
     ]
    }
   ],
   "source": [
    "# Write a python program to reverse an integer in Python\n",
    "number =123456\n",
    "reverse=0\n",
    "while number != 0:\n",
    "    result=number%10\n",
    "    reverse= reverse*10 + result\n",
    "    number //=10\n",
    "print(reverse)\n",
    "\n",
    "#OR\n",
    "num=123456\n",
    "print(str(num)[::-1]) #using String slicing"
   ]
  },
  {
   "cell_type": "code",
   "execution_count": 54,
   "metadata": {},
   "outputs": [
    {
     "name": "stdout",
     "output_type": "stream",
     "text": [
      "0\n",
      "1\n",
      "1\n",
      "2\n",
      "3\n",
      "5\n",
      "8\n",
      "13\n",
      "21\n"
     ]
    }
   ],
   "source": [
    "# Write a python program to print the Fibonacci series using the iterative method.\n",
    "n1,n2=0,1\n",
    "count=0\n",
    "num=int(input(\"Enter a Number\"))\n",
    "\n",
    "if(num<=0):\n",
    "    print(\"Invalid number\")\n",
    "elif(num==1):\n",
    "    print(n1)\n",
    "else:\n",
    "    while(count<num):\n",
    "        print(n1)\n",
    "        nth= n1+n2\n",
    "        n1=n2\n",
    "        n2=nth\n",
    "        count += 1"
   ]
  },
  {
   "cell_type": "code",
   "execution_count": 10,
   "metadata": {},
   "outputs": [
    {
     "name": "stdout",
     "output_type": "stream",
     "text": [
      "Select operation.\n",
      "1.Add\n",
      "2.Subtract\n",
      "3.Multiply\n",
      "4.Divide\n",
      "Enter valid number\n"
     ]
    }
   ],
   "source": [
    "# 7.Write a python program to calculate the sum, multiplication, division, and subtraction of a given number.\n",
    "\n",
    "def add(a,b):\n",
    "    return a+b\n",
    "def sub(a,b):\n",
    "    return a-b\n",
    "def mul(a,b):\n",
    "    return(a*b)\n",
    "def div(a,b):\n",
    "    return(a/b)\n",
    "\n",
    "print(\"Select operation.\")\n",
    "print(\"1.Add\")\n",
    "print(\"2.Subtract\")\n",
    "print(\"3.Multiply\")\n",
    "print(\"4.Divide\")\n",
    "\n",
    "select= int(input(\"Enter a choice 1,2,3,4 :\" ))\n",
    "\n",
    "num1= int(input(\"Enter a first number\"))\n",
    "num2= int(input(\"Enter a Second number\"))\n",
    "\n",
    "if select == 1:\n",
    "    print(add(num1, num2))\n",
    "elif select == 2:\n",
    "    print(sub(num1, num2))\n",
    "elif select == 3:\n",
    "    print(mul(num1,num2))\n",
    "elif select == 4:\n",
    "    print(div(num1,num2))\n",
    "else:\n",
    "    print(\"Enter valid number\")\n"
   ]
  },
  {
   "cell_type": "code",
   "execution_count": 11,
   "metadata": {},
   "outputs": [
    {
     "name": "stdout",
     "output_type": "stream",
     "text": [
      "pythonisfun\n"
     ]
    }
   ],
   "source": [
    "# 6. Write a python program to replace the string space with a given character. \n",
    "# If a user is given the string value ‘python sfun’ The character value inserted by the user is ‘i’ \n",
    "#Then the output generated must be “pythonisfun” .\n",
    "\n",
    "str= \"python sfun\"\n",
    "str1 = str.replace(\" \",\"i\")\n",
    "print(str1)"
   ]
  },
  {
   "cell_type": "code",
   "execution_count": 16,
   "metadata": {},
   "outputs": [
    {
     "name": "stdout",
     "output_type": "stream",
     "text": [
      "ytponh\n"
     ]
    }
   ],
   "source": [
    "# 7. Write a python program to sort characters of a string in descending order. \n",
    "#The user inputs the string ‘python’ Then the output should be ‘ytpnoh’ where all the characters are arranged in descending order.\n",
    "\n",
    "string= \"python\"\n",
    "strlist=list(string)\n",
    "sortstring = \"\".join(sorted(strlist,reverse = True))\n",
    "print(sortstring)"
   ]
  },
  {
   "cell_type": "code",
   "execution_count": 45,
   "metadata": {},
   "outputs": [
    {
     "name": "stdout",
     "output_type": "stream",
     "text": [
      "3\n"
     ]
    }
   ],
   "source": [
    "# Write a program in Python to find the largest and smallest number in an array.\n",
    "arr = [60, 78, 3, 43, 90, 8]\n",
    "small = arr[0]\n",
    " \n",
    "for i in range(len(arr)):\n",
    "  if arr[i] < small: \n",
    "    small = arr[i] \n",
    "\n",
    "print(small)"
   ]
  },
  {
   "cell_type": "code",
   "execution_count": 47,
   "metadata": {},
   "outputs": [
    {
     "name": "stdout",
     "output_type": "stream",
     "text": [
      "90\n"
     ]
    }
   ],
   "source": [
    "arr = [60, 78, 3, 43, 90, 8]\n",
    "large = arr[0]\n",
    " \n",
    "for i in range(len(arr)):\n",
    "  if arr[i] > large: \n",
    "    large = arr[i] \n",
    "\n",
    "print(large)"
   ]
  },
  {
   "cell_type": "code",
   "execution_count": 48,
   "metadata": {},
   "outputs": [
    {
     "name": "stdout",
     "output_type": "stream",
     "text": [
      "[2, 5, 7, 10, 40, 20, 50, 2, 60, 67, 30]\n",
      "[2, 5, 7, 10, 40, 20, 50, 2, 60, 67, 30]\n"
     ]
    }
   ],
   "source": [
    "# Write a python program to merge two arrays.\n",
    "arr1=[2,5,7,10,40,20]\n",
    "arr2=[50,2,60,67,30]\n",
    "print(arr1 + arr2)\n",
    "\n",
    "arr1.extend(arr2)\n",
    "print(arr1)"
   ]
  },
  {
   "cell_type": "code",
   "execution_count": 1,
   "metadata": {},
   "outputs": [
    {
     "name": "stdout",
     "output_type": "stream",
     "text": [
      "   *\n",
      "  ***\n",
      " *****\n",
      "*******\n",
      " *****\n",
      "  ***\n",
      "   *\n"
     ]
    }
   ],
   "source": [
    "# Write a program in Python to print the Full Diamond Pattern\n",
    "row = 4\n",
    "for i in range(1, row+1):\n",
    "    for j in range(1, row-i+1):\n",
    "        print(\" \", end=\"\")\n",
    "    for j in range(1, 2*i):\n",
    "        print(\"*\", end=\"\")\n",
    "    print()\n",
    "\n",
    "for i in range(row-1, 0,-1):\n",
    "    for j in range(1, row-i+1):\n",
    "        print(\" \", end=\"\")\n",
    "    for j in range(1, 2*i):\n",
    "        print(\"*\", end=\"\")\n",
    "    print()\n"
   ]
  },
  {
   "cell_type": "code",
   "execution_count": null,
   "metadata": {},
   "outputs": [],
   "source": []
  },
  {
   "cell_type": "code",
   "execution_count": null,
   "metadata": {},
   "outputs": [],
   "source": []
  }
 ],
 "metadata": {
  "kernelspec": {
   "display_name": "Python 3",
   "language": "python",
   "name": "python3"
  },
  "language_info": {
   "codemirror_mode": {
    "name": "ipython",
    "version": 3
   },
   "file_extension": ".py",
   "mimetype": "text/x-python",
   "name": "python",
   "nbconvert_exporter": "python",
   "pygments_lexer": "ipython3",
   "version": "3.12.1"
  }
 },
 "nbformat": 4,
 "nbformat_minor": 2
}
