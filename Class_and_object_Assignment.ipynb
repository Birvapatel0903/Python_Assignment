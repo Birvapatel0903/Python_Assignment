{
 "cells": [
  {
   "cell_type": "code",
   "execution_count": 6,
   "metadata": {},
   "outputs": [
    {
     "name": "stdout",
     "output_type": "stream",
     "text": [
      "1.6\n",
      "9.433981132056603\n"
     ]
    }
   ],
   "source": [
    "# Fill in the Line class methods to accept coordinates as a pair of tuples and return the slope and distance of the line.\n",
    "\n",
    "class Line:\n",
    "    def __init__(self,x1,x2,y1,y2):\n",
    "        self.x1=x1\n",
    "        self.x2=x2\n",
    "        self.y1=y1\n",
    "        self.y2=y2\n",
    "    \n",
    "    def slope(self):\n",
    "        return (self.y2-self.y1) / (self.x2-self.x1)\n",
    "    \n",
    "    def distance(self):\n",
    "        return ((self.x2-self.x1)**2 + (self.y2-self.y1)**2)**0.5\n",
    "    \n",
    "\n",
    "l1=Line(3,8,2,10)\n",
    "\n",
    "print(l1.slope())\n",
    "print(l1.distance())"
   ]
  },
  {
   "cell_type": "code",
   "execution_count": 8,
   "metadata": {},
   "outputs": [
    {
     "name": "stdout",
     "output_type": "stream",
     "text": [
      "56.519999999999996\n",
      "94.19999999999999\n"
     ]
    }
   ],
   "source": [
    "#calculate volume and surface area of a cylinder\n",
    "\n",
    "class Cylinder:\n",
    "    pi=3.14\n",
    "\n",
    "    def __init__(self,radius,height):\n",
    "        self.radius= radius\n",
    "        self.height= height\n",
    "\n",
    "    def volume(self):\n",
    "        return self.pi* self.radius*self.radius*self.height\n",
    "    \n",
    "    def surface_area(self):\n",
    "        return (2*self.pi*self.radius*self.height) + (2*self.pi*self.radius*self.radius)\n",
    "    \n",
    "c1=Cylinder(3,2)\n",
    "print(c1.volume())\n",
    "print(c1.surface_area())"
   ]
  },
  {
   "cell_type": "code",
   "execution_count": 15,
   "metadata": {},
   "outputs": [
    {
     "name": "stdout",
     "output_type": "stream",
     "text": [
      "<class 'type'>\n",
      "dict_keys(['__module__', '__init__', '__dict__', '__weakref__', '__doc__'])\n",
      "__main__\n"
     ]
    }
   ],
   "source": [
    "# Write a simple Python class named Student and display its type. Also, display the _dict_ attribute keys and the value of the _module_ attribute of \n",
    "# the Student class.\n",
    "\n",
    "class Student:\n",
    "    def __init__(self,name,age):\n",
    "        self.name=name\n",
    "        self.age=age\n",
    "    \n",
    "print(type(Student))\n",
    "print(Student.__dict__.keys())\n",
    "print(Student.__module__)"
   ]
  },
  {
   "cell_type": "markdown",
   "metadata": {},
   "source": [
    "Write a Python program to create two empty classes, Student and Marks. Now create some instances and check whether they are instances of the said classes or not. Also, check whether the said classes are subclasses of the built-in object class or not."
   ]
  },
  {
   "cell_type": "code",
   "execution_count": 20,
   "metadata": {},
   "outputs": [
    {
     "name": "stdout",
     "output_type": "stream",
     "text": [
      "Is student_instance an instance of Student? True\n",
      "Is marks_instance an instance of Marks? True\n",
      "Is Student a subclass of object? True\n",
      "Is Marks a subclass of object? True\n"
     ]
    }
   ],
   "source": [
    "class Student:\n",
    "    pass\n",
    "class Marks:\n",
    "    pass\n",
    "\n",
    "#create instance of classes\n",
    "student_instance = Student()\n",
    "marks_instance = Marks()\n",
    "\n",
    "#Check if the instances are instances of the classes\n",
    "is_student_instance = isinstance(student_instance, Student)\n",
    "is_marks_instance = isinstance(marks_instance, Marks)\n",
    "\n",
    "# Check if the classes are subclasses of the built-in object class\n",
    "is_student_subclass = issubclass(Student, object)\n",
    "is_marks_subclass = issubclass(Marks, object)\n",
    "\n",
    "print(f\"Is student_instance an instance of Student? {is_student_instance}\")\n",
    "print(f\"Is marks_instance an instance of Marks? {is_marks_instance}\")\n",
    "\n",
    "print(f\"Is Student a subclass of object? {is_student_subclass}\")\n",
    "print(f\"Is Marks a subclass of object? {is_marks_subclass}\")"
   ]
  },
  {
   "cell_type": "markdown",
   "metadata": {},
   "source": [
    "Write a Python class named Student with two attributes student_name, marks. Modify the attribute values of the said class and print the original and modified values of the said attributes."
   ]
  },
  {
   "cell_type": "code",
   "execution_count": 8,
   "metadata": {},
   "outputs": [
    {
     "name": "stdout",
     "output_type": "stream",
     "text": [
      "Student name is: Deo and marks is: 90\n",
      "Student name is: mike and marks is: 67\n"
     ]
    }
   ],
   "source": [
    "class Student:\n",
    "\n",
    "    def __init__(self,student_name,marks):\n",
    "        self.student_name=student_name\n",
    "        self.marks=marks\n",
    "\n",
    "s1=Student('Deo',90)\n",
    "print(\"Student name is:\",s1.student_name +\" and marks is:\", s1.marks)\n",
    "s1=Student('mike',67)\n",
    "print(\"Student name is:\",s1.student_name +\" and marks is:\", s1.marks)"
   ]
  },
  {
   "cell_type": "markdown",
   "metadata": {},
   "source": [
    " Write a Python class named Student with two attributes student_id, student_name. Add a new attribute student_class and display the entire attribute and the values of the class. Now remove the student_name attribute and display the entire attribute with values.\n"
   ]
  },
  {
   "cell_type": "code",
   "execution_count": 14,
   "metadata": {},
   "outputs": [
    {
     "name": "stdout",
     "output_type": "stream",
     "text": [
      "Studnet ID and Name is:  10 Miya\n",
      "Grade A\n",
      "Student info is:  10 Miya Grade A\n",
      "Student info is:  10 Grade A\n"
     ]
    }
   ],
   "source": [
    "class Student:\n",
    "\n",
    "    def __init__(self,student_id,student_name):\n",
    "        self.student_id=student_id\n",
    "        self.student_name=student_name\n",
    "\n",
    "s1=Student(10,'Miya')\n",
    "\n",
    "print(\"Studnet ID and Name is: \",s1.student_id,s1.student_name)\n",
    "\n",
    "s1.student_class='Grade A'\n",
    "\n",
    "print(s1.student_class)\n",
    "print(\"Student info is: \", s1.student_id,s1.student_name,s1.student_class)\n",
    "\n",
    "del s1.student_name\n",
    "print(\"Student info is: \", s1.student_id,s1.student_class)"
   ]
  },
  {
   "cell_type": "markdown",
   "metadata": {},
   "source": [
    "Write a Python class named Student with two attributes: student_id, student_name. Add a new attribute: student_class. Create a function to display all attributes and their values in the Student class."
   ]
  },
  {
   "cell_type": "code",
   "execution_count": 20,
   "metadata": {},
   "outputs": [
    {
     "name": "stdout",
     "output_type": "stream",
     "text": [
      "Student info: 10 Miya Grade A\n"
     ]
    }
   ],
   "source": [
    "class Student:\n",
    "\n",
    "    def __init__(self,student_id,student_name):\n",
    "        self.student_id=student_id\n",
    "        self.student_name=student_name\n",
    "        self.student_class=None\n",
    "\n",
    "    def display_attributes(self):\n",
    "        print(\"Student info:\", self.student_id,self.student_name,self.student_class)\n",
    "\n",
    "\n",
    "s1=Student(10,'Miya')\n",
    "\n",
    "s1.student_class='Grade A'\n",
    "\n",
    "s1.display_attributes()\n"
   ]
  },
  {
   "cell_type": "markdown",
   "metadata": {},
   "source": [
    "Write a Python class named Student with two instances student1, student2 and assign values to the instances' attributes. Print all the attributes of the student1, student2 instances with their values in the given format."
   ]
  },
  {
   "cell_type": "code",
   "execution_count": 22,
   "metadata": {},
   "outputs": [
    {
     "name": "stdout",
     "output_type": "stream",
     "text": [
      "Student one info 1 jose jean garde A\n",
      "Student two info 2 mike rose grade B\n"
     ]
    }
   ],
   "source": [
    "class Student:\n",
    "    def __init__(self,id,fname,lname,grade):\n",
    "        self.id=id\n",
    "        self.fname=fname\n",
    "        self.lname=lname\n",
    "        self.grade=grade\n",
    "\n",
    "student1=Student(1,'jose','jean','garde A')\n",
    "student2=Student(2,'mike','rose','grade B')\n",
    "\n",
    "print('Student one info',student1.id,student1.fname,student1.lname,student1.grade)\n",
    "print('Student two info',student2.id,student2.fname,student2.lname,student2.grade)"
   ]
  },
  {
   "cell_type": "code",
   "execution_count": 38,
   "metadata": {},
   "outputs": [
    {
     "name": "stdout",
     "output_type": "stream",
     "text": [
      "name:mike\n",
      "age: 30\n",
      "lan: ['English']\n",
      "\n",
      "name:jack\n",
      "age: 46\n",
      "lan: ['English', 'French', 'Hindi']\n",
      "\n",
      "name:bob\n",
      "age: 78\n",
      "lan: ['Gujarati', 'Marathi', 'Telgu']\n",
      "\n"
     ]
    }
   ],
   "source": [
    "class Employee:\n",
    "    def __init__(self,name,age,lang=[]):\n",
    "        self.name=name\n",
    "        self.age=age\n",
    "        self.lang=lang\n",
    "\n",
    "    def display_info(self):\n",
    "        print(f\"name:{self.name}\")\n",
    "        print(f\"age: {self.age}\")\n",
    "        print(f\"lan: {self.lang}\\n\")\n",
    "\n",
    "class Manager(Employee):\n",
    "    def __init__(self,name,age,lang=[]):\n",
    "        super().__init__(name, age, lang)\n",
    "\n",
    "    def display_info(self):\n",
    "        super().display_info()\n",
    "\n",
    "emp1=Employee(\"mike\",30,[\"English\"])\n",
    "emp2=Employee(\"jack\",46,[\"English\",\"French\",\"Hindi\"])\n",
    "manager1=Manager(\"bob\",78,[\"Gujarati\",\"Marathi\",\"Telgu\"])\n",
    "\n",
    "emp1.display_info()\n",
    "emp2.display_info()\n",
    "manager1.display_info()\n"
   ]
  },
  {
   "cell_type": "code",
   "execution_count": null,
   "metadata": {},
   "outputs": [],
   "source": []
  }
 ],
 "metadata": {
  "kernelspec": {
   "display_name": "Python 3",
   "language": "python",
   "name": "python3"
  },
  "language_info": {
   "codemirror_mode": {
    "name": "ipython",
    "version": 3
   },
   "file_extension": ".py",
   "mimetype": "text/x-python",
   "name": "python",
   "nbconvert_exporter": "python",
   "pygments_lexer": "ipython3",
   "version": "3.12.1"
  }
 },
 "nbformat": 4,
 "nbformat_minor": 2
}
